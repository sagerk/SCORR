{
 "cells": [
  {
   "cell_type": "markdown",
   "metadata": {
    "collapsed": true
   },
   "source": [
    "\n"
   ]
  },
  {
   "cell_type": "code",
   "execution_count": 1,
   "metadata": {
    "collapsed": true
   },
   "outputs": [],
   "source": [
    "import h5py\n",
    "import numpy as np\n",
    "from pathlib import Path\n",
    "from scipy.spatial import cKDTree\n",
    "import time\n",
    "from shutil import copyfile\n",
    "from scorr.addons import group_name"
   ]
  },
  {
   "cell_type": "code",
   "execution_count": 2,
   "metadata": {
    "collapsed": true
   },
   "outputs": [],
   "source": [
    "# DIR_PROJECT = Path.home() / \"Desktop\" / \"smoothing_source\"\n",
    "DIR_PROJECT = Path.home() / \"Desktop\" / \"smoothing_source_csem\"\n",
    "file_kernel = DIR_PROJECT / \"input_original\" / \"source_kernel_10003.h5\"\n",
    "file_static_field = DIR_PROJECT / \"static_model\" / \"model_static.h5\""
   ]
  },
  {
   "cell_type": "code",
   "execution_count": 3,
   "metadata": {},
   "outputs": [],
   "source": [
    "# read kernel file: get coordinates and kernel\n",
    "with h5py.File(str(file_kernel), \"r\") as hdf5:\n",
    "    n_elements_global = hdf5[group_name + \"coordinates\"].shape[0]\n",
    "    coordinates_shape = hdf5[group_name + \"coordinates\"].shape\n",
    "    coordinates_kernel = np.reshape(hdf5[group_name + \"coordinates\"][:],\n",
    "                                    (coordinates_shape[0] * coordinates_shape[1], 3))\n",
    "    kernel = hdf5[group_name + \"distribution\"][:]\n",
    "\n",
    "# read static field: get coordinates and size for distribution\n",
    "with h5py.File(str(file_static_field), \"r\") as hdf5:\n",
    "    assert n_elements_global == hdf5[\"/ELASTIC/coordinates\"].shape[0]\n",
    "    coordinates_shape = hdf5[\"/ELASTIC/coordinates\"].shape\n",
    "    coordinates_static_field = np.reshape(hdf5[\"/ELASTIC/coordinates\"][:],\n",
    "                                          (coordinates_shape[0] * coordinates_shape[1], 3))\n",
    "    static_field = np.zeros((hdf5[\"/ELASTIC/data\"].shape[1], 125))"
   ]
  },
  {
   "cell_type": "code",
   "execution_count": 4,
   "metadata": {
    "collapsed": true
   },
   "outputs": [],
   "source": [
    "# percentile clipping (if wanted)\n",
    "percentile = 99\n",
    "indices = abs(kernel) > np.percentile(np.abs(kernel), percentile)\n",
    "kernel[indices] = kernel[indices]/np.abs(kernel[indices]) * np.percentile(np.abs(kernel), percentile)\n"
   ]
  },
  {
   "cell_type": "code",
   "execution_count": 5,
   "metadata": {
    "collapsed": true
   },
   "outputs": [],
   "source": [
    "# tree = cKDTree(coordinates_static_field)\n",
    "# \n",
    "# start_time = time.time()\n",
    "# for i in range(coordinates_kernel.shape[0]):\n",
    "#     distance, ndx = tree.query(coordinates_kernel[i, :], k=4)\n",
    "#     ndx = ndx[0:np.count_nonzero(distance == 0.0)]\n",
    "#     static_field[ndx//125, np.mod(ndx, 125)] = kernel[i//25, np.mod(i, 25)]\n",
    "#         \n",
    "# end_time = time.time()\n",
    "# print(\"total time: \", end_time - start_time)\n"
   ]
  },
  {
   "cell_type": "code",
   "execution_count": 6,
   "metadata": {},
   "outputs": [
    {
     "name": "stdout",
     "output_type": "stream",
     "text": [
      "total time:  134.73398995399475\n"
     ]
    }
   ],
   "source": [
    "tree = cKDTree(coordinates_kernel)\n",
    "\n",
    "start_time = time.time()\n",
    "for i in range(coordinates_static_field.shape[0]):\n",
    "    distance, ndx = tree.query(coordinates_static_field[i, :], k=1)\n",
    "    static_field[i//125, np.mod(i, 125)] = kernel[ndx//25, np.mod(ndx, 25)]\n",
    "        \n",
    "end_time = time.time()\n",
    "print(\"total time: \", end_time - start_time)"
   ]
  },
  {
   "cell_type": "code",
   "execution_count": 7,
   "metadata": {
    "collapsed": true
   },
   "outputs": [],
   "source": [
    "# change static field: kernel acts as initial condition diffusion\n",
    "file_static_field_new = DIR_PROJECT / \"initial_values\" / \"model_initial_values.h5\"\n",
    "# copyfile(file_static_field, file_static_field_new)\n",
    "with h5py.File(str(file_static_field), \"r\") as hdf5_input:\n",
    "    with h5py.File(str(file_static_field_new), \"w\") as hdf5_output:\n",
    "        hdf5_output.create_dataset(\"/ACOUSTIC/connectivity\", shape=hdf5_input[\"/ELASTIC/connectivity\"].shape, \n",
    "                            dtype=\"int32\", data=hdf5_input[\"/ELASTIC/connectivity\"][:])\n",
    "        hdf5_output.create_dataset(\"/ACOUSTIC/coordinates\", shape=hdf5_input[\"/ELASTIC/coordinates\"].shape, \n",
    "                            dtype=\"float32\", data=hdf5_input[\"/ELASTIC/coordinates\"][:])\n",
    "        hdf5_output.create_dataset(\"/ACOUSTIC/data\", shape=static_field.shape, \n",
    "                            dtype=\"float32\", data=static_field)\n",
    "        hdf5_output.create_dataset(\"/ACOUSTIC/globalElementIds\", shape=hdf5_input[\"/ELASTIC/globalElementIds\"].shape, \n",
    "                            dtype=\"int32\", data=hdf5_input[\"/ELASTIC/globalElementIds\"][:])\n",
    "        hdf5_output.create_dataset(\"/ACOUSTIC/time\", shape=hdf5_input[\"/ELASTIC/time\"].shape, \n",
    "                            dtype=\"float32\", data=hdf5_input[\"/ELASTIC/time\"][:])"
   ]
  },
  {
   "cell_type": "markdown",
   "metadata": {},
   "source": [
    "\n",
    "#########################################\n",
    "############# RUN SMOOTHING #############\n",
    "#########################################\n"
   ]
  },
  {
   "cell_type": "code",
   "execution_count": 8,
   "metadata": {
    "collapsed": true
   },
   "outputs": [],
   "source": [
    "# allocate array for smooth kernel\n",
    "kernel_smooth = np.zeros_like(kernel)\n",
    "\n",
    "# read static field, i.e. smoothed version of kernel\n",
    "file_static_field_smooth = DIR_PROJECT / \"model_smooth.h5\"\n",
    "with h5py.File(str(file_static_field_smooth), \"r\") as hdf5:\n",
    "    coordinates_static_field = np.reshape(hdf5[\"/ACOUSTIC/coordinates\"][:],\n",
    "                                          (coordinates_shape[0] * coordinates_shape[1], 3))\n",
    "    static_field_smooth = hdf5[\"/ACOUSTIC/data\"][4, :, 0, :]"
   ]
  },
  {
   "cell_type": "code",
   "execution_count": 10,
   "metadata": {},
   "outputs": [
    {
     "name": "stdout",
     "output_type": "stream",
     "text": [
      "total time:  28.025219917297363\n"
     ]
    }
   ],
   "source": [
    "tree = cKDTree(coordinates_static_field)\n",
    "\n",
    "start_time = time.time()\n",
    "for i in range(coordinates_kernel.shape[0]):\n",
    "    distance, ndx = tree.query(coordinates_kernel[i, :], k=1)\n",
    "    \n",
    "    assert distance == 0.0\n",
    "    kernel_smooth[i//25, np.mod(i, 25)] = static_field_smooth[ndx//125, np.mod(ndx, 125)]\n",
    "        \n",
    "end_time = time.time()\n",
    "print(\"total time: \", end_time - start_time)\n"
   ]
  },
  {
   "cell_type": "code",
   "execution_count": 11,
   "metadata": {
    "collapsed": true
   },
   "outputs": [],
   "source": [
    "# write smoothed kernel to file\n",
    "file_kernel_smooth = DIR_PROJECT / \"output_smooth\" / (file_kernel.stem + \"_smooth.h5\") \n",
    "copyfile(file_kernel, file_kernel_smooth)\n",
    "with h5py.File(str(file_kernel_smooth), \"a\") as hdf5:\n",
    "    hdf5[group_name + \"distribution\"][:] = kernel_smooth"
   ]
  },
  {
   "cell_type": "code",
   "execution_count": null,
   "metadata": {
    "collapsed": true
   },
   "outputs": [],
   "source": []
  }
 ],
 "metadata": {
  "kernelspec": {
   "display_name": "Python 3",
   "language": "python",
   "name": "python3"
  },
  "language_info": {
   "codemirror_mode": {
    "name": "ipython",
    "version": 3
   },
   "file_extension": ".py",
   "mimetype": "text/x-python",
   "name": "python",
   "nbconvert_exporter": "python",
   "pygments_lexer": "ipython3",
   "version": "3.6.1"
  }
 },
 "nbformat": 4,
 "nbformat_minor": 1
}
